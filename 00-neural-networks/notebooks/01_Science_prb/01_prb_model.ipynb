{
 "cells": [
  {
   "cell_type": "markdown",
   "metadata": {},
   "source": [
    "# Notebook for fit a neural network"
   ]
  },
  {
   "cell_type": "markdown",
   "metadata": {},
   "source": [
    "## Load Kedro context"
   ]
  },
  {
   "cell_type": "code",
   "execution_count": 1,
   "metadata": {},
   "outputs": [],
   "source": [
    "from kedro.framework.session import KedroSession\n",
    "from kedro.framework.startup import bootstrap_project\n",
    "from pathlib import Path\n",
    "from kedro.extras.datasets.pickle import PickleDataSet\n",
    "import os \n",
    "import logging.config\n",
    "from kedro.config import ConfigLoader\n",
    "from kedro.framework.project import settings\n",
    "\n",
    "conf_path = \"C:/Users/jfjim_xm8lkod/12_NN/NN_Scratch/00-neural-networks/conf\"\n",
    "conf_loader = ConfigLoader(conf_source=conf_path, env=\"local\")\n",
    "\n",
    "conf_logging = conf_loader[\"logging\"]\n",
    "logging.config.dictConfig(conf_logging)  # set logging conf\n",
    "\n",
    "conf_catalog = conf_loader[\"catalog\"]\n",
    "conf_params = conf_loader[\"parameters\"]\n",
    "\n",
    "logger = logging.getLogger('kedro')"
   ]
  },
  {
   "cell_type": "code",
   "execution_count": 2,
   "metadata": {},
   "outputs": [
    {
     "data": {
      "text/html": [
       "<pre style=\"white-space:pre;overflow-x:auto;line-height:normal;font-family:Menlo,'DejaVu Sans Mono',consolas,'Courier New',monospace\"><span style=\"color: #7fbfbf; text-decoration-color: #7fbfbf\">[10/25/23 13:32:17] </span><span style=\"color: #800000; text-decoration-color: #800000\">WARNING </span> c:\\Users\\jfjim_xm8lkod\\anaconda3\\envs\\kedro-environment\\lib\\site-packa <a href=\"file://c:\\Users\\jfjim_xm8lkod\\anaconda3\\envs\\kedro-environment\\lib\\warnings.py\" target=\"_blank\"><span style=\"color: #7f7f7f; text-decoration-color: #7f7f7f\">warnings.py</span></a><span style=\"color: #7f7f7f; text-decoration-color: #7f7f7f\">:</span><a href=\"file://c:\\Users\\jfjim_xm8lkod\\anaconda3\\envs\\kedro-environment\\lib\\warnings.py#109\" target=\"_blank\"><span style=\"color: #7f7f7f; text-decoration-color: #7f7f7f\">109</span></a>\n",
       "<span style=\"color: #7fbfbf; text-decoration-color: #7fbfbf\">                    </span>         ges\\kedro\\framework\\project\\__init__.py:<span style=\"color: #008080; text-decoration-color: #008080; font-weight: bold\">372</span>: UserWarning: An error     <span style=\"color: #7f7f7f; text-decoration-color: #7f7f7f\">               </span>\n",
       "<span style=\"color: #7fbfbf; text-decoration-color: #7fbfbf\">                    </span>         occurred while importing the                                           <span style=\"color: #7f7f7f; text-decoration-color: #7f7f7f\">               </span>\n",
       "<span style=\"color: #7fbfbf; text-decoration-color: #7fbfbf\">                    </span>         <span style=\"color: #008000; text-decoration-color: #008000\">'00_neural_networks.pipelines.data_science'</span> module. Nothing defined    <span style=\"color: #7f7f7f; text-decoration-color: #7f7f7f\">               </span>\n",
       "<span style=\"color: #7fbfbf; text-decoration-color: #7fbfbf\">                    </span>         therein will be returned by <span style=\"color: #008000; text-decoration-color: #008000\">'find_pipelines'</span>.                          <span style=\"color: #7f7f7f; text-decoration-color: #7f7f7f\">               </span>\n",
       "<span style=\"color: #7fbfbf; text-decoration-color: #7fbfbf\">                    </span>                                                                                <span style=\"color: #7f7f7f; text-decoration-color: #7f7f7f\">               </span>\n",
       "<span style=\"color: #7fbfbf; text-decoration-color: #7fbfbf\">                    </span>         Traceback <span style=\"font-weight: bold\">(</span>most recent call last<span style=\"font-weight: bold\">)</span>:                                     <span style=\"color: #7f7f7f; text-decoration-color: #7f7f7f\">               </span>\n",
       "<span style=\"color: #7fbfbf; text-decoration-color: #7fbfbf\">                    </span>           File                                                                 <span style=\"color: #7f7f7f; text-decoration-color: #7f7f7f\">               </span>\n",
       "<span style=\"color: #7fbfbf; text-decoration-color: #7fbfbf\">                    </span>         <span style=\"color: #008000; text-decoration-color: #008000\">\"c:\\Users\\jfjim_xm8lkod\\anaconda3\\envs\\kedro-environment\\lib\\site-pack</span> <span style=\"color: #7f7f7f; text-decoration-color: #7f7f7f\">               </span>\n",
       "<span style=\"color: #7fbfbf; text-decoration-color: #7fbfbf\">                    </span>         <span style=\"color: #008000; text-decoration-color: #008000\">ages\\kedro\\framework\\project\\__init__.py\"</span>, line <span style=\"color: #008080; text-decoration-color: #008080; font-weight: bold\">370</span>, in find_pipelines <span style=\"color: #7f7f7f; text-decoration-color: #7f7f7f\">               </span>\n",
       "<span style=\"color: #7fbfbf; text-decoration-color: #7fbfbf\">                    </span>             pipeline_module = <span style=\"color: #800080; text-decoration-color: #800080; font-weight: bold\">importlib.import_module</span><span style=\"font-weight: bold\">(</span>pipeline_module_name<span style=\"font-weight: bold\">)</span>    <span style=\"color: #7f7f7f; text-decoration-color: #7f7f7f\">               </span>\n",
       "<span style=\"color: #7fbfbf; text-decoration-color: #7fbfbf\">                    </span>           File                                                                 <span style=\"color: #7f7f7f; text-decoration-color: #7f7f7f\">               </span>\n",
       "<span style=\"color: #7fbfbf; text-decoration-color: #7fbfbf\">                    </span>         <span style=\"color: #008000; text-decoration-color: #008000\">\"c:\\Users\\jfjim_xm8lkod\\anaconda3\\envs\\kedro-environment\\lib\\importlib</span> <span style=\"color: #7f7f7f; text-decoration-color: #7f7f7f\">               </span>\n",
       "<span style=\"color: #7fbfbf; text-decoration-color: #7fbfbf\">                    </span>         <span style=\"color: #008000; text-decoration-color: #008000\">\\__init__.py\"</span>, line <span style=\"color: #008080; text-decoration-color: #008080; font-weight: bold\">126</span>, in import_module                              <span style=\"color: #7f7f7f; text-decoration-color: #7f7f7f\">               </span>\n",
       "<span style=\"color: #7fbfbf; text-decoration-color: #7fbfbf\">                    </span>             return <span style=\"color: #800080; text-decoration-color: #800080; font-weight: bold\">_bootstrap._gcd_import</span><span style=\"font-weight: bold\">(</span>name<span style=\"font-weight: bold\">[</span>level:<span style=\"font-weight: bold\">]</span>, package, level<span style=\"font-weight: bold\">)</span>        <span style=\"color: #7f7f7f; text-decoration-color: #7f7f7f\">               </span>\n",
       "<span style=\"color: #7fbfbf; text-decoration-color: #7fbfbf\">                    </span>           File <span style=\"color: #008000; text-decoration-color: #008000\">\"&lt;frozen importlib._bootstrap&gt;\"</span><span style=\"color: #000000; text-decoration-color: #000000\">, line </span><span style=\"color: #008080; text-decoration-color: #008080; font-weight: bold\">1050</span><span style=\"color: #000000; text-decoration-color: #000000\">, in _gcd_import</span>      <span style=\"color: #7f7f7f; text-decoration-color: #7f7f7f\">               </span>\n",
       "<span style=\"color: #7fbfbf; text-decoration-color: #7fbfbf\">                    </span>         <span style=\"color: #000000; text-decoration-color: #000000\">  File </span><span style=\"color: #008000; text-decoration-color: #008000\">\"&lt;frozen importlib._bootstrap&gt;\"</span><span style=\"color: #000000; text-decoration-color: #000000\">, line </span><span style=\"color: #008080; text-decoration-color: #008080; font-weight: bold\">1027</span><span style=\"color: #000000; text-decoration-color: #000000\">, in _find_and_load</span>   <span style=\"color: #7f7f7f; text-decoration-color: #7f7f7f\">               </span>\n",
       "<span style=\"color: #7fbfbf; text-decoration-color: #7fbfbf\">                    </span>         <span style=\"color: #000000; text-decoration-color: #000000\">  File </span><span style=\"color: #008000; text-decoration-color: #008000\">\"&lt;frozen importlib._bootstrap&gt;\"</span><span style=\"color: #000000; text-decoration-color: #000000\">, line </span><span style=\"color: #008080; text-decoration-color: #008080; font-weight: bold\">1006</span><span style=\"color: #000000; text-decoration-color: #000000\">, in </span>                 <span style=\"color: #7f7f7f; text-decoration-color: #7f7f7f\">               </span>\n",
       "<span style=\"color: #7fbfbf; text-decoration-color: #7fbfbf\">                    </span>         <span style=\"color: #000000; text-decoration-color: #000000\">_find_and_load_unlocked</span>                                                <span style=\"color: #7f7f7f; text-decoration-color: #7f7f7f\">               </span>\n",
       "<span style=\"color: #7fbfbf; text-decoration-color: #7fbfbf\">                    </span>         <span style=\"color: #000000; text-decoration-color: #000000\">  File </span><span style=\"color: #008000; text-decoration-color: #008000\">\"&lt;frozen importlib._bootstrap&gt;\"</span><span style=\"color: #000000; text-decoration-color: #000000\">, line </span><span style=\"color: #008080; text-decoration-color: #008080; font-weight: bold\">688</span><span style=\"color: #000000; text-decoration-color: #000000\">, in _load_unlocked</span>    <span style=\"color: #7f7f7f; text-decoration-color: #7f7f7f\">               </span>\n",
       "<span style=\"color: #7fbfbf; text-decoration-color: #7fbfbf\">                    </span>         <span style=\"color: #000000; text-decoration-color: #000000\">  File </span><span style=\"color: #008000; text-decoration-color: #008000\">\"&lt;frozen importlib._bootstrap_external&gt;\"</span><span style=\"color: #000000; text-decoration-color: #000000\">, line </span><span style=\"color: #008080; text-decoration-color: #008080; font-weight: bold\">883</span><span style=\"color: #000000; text-decoration-color: #000000\">, in </span>         <span style=\"color: #7f7f7f; text-decoration-color: #7f7f7f\">               </span>\n",
       "<span style=\"color: #7fbfbf; text-decoration-color: #7fbfbf\">                    </span>         <span style=\"color: #000000; text-decoration-color: #000000\">exec_module</span>                                                            <span style=\"color: #7f7f7f; text-decoration-color: #7f7f7f\">               </span>\n",
       "<span style=\"color: #7fbfbf; text-decoration-color: #7fbfbf\">                    </span>         <span style=\"color: #000000; text-decoration-color: #000000\">  File </span><span style=\"color: #008000; text-decoration-color: #008000\">\"&lt;frozen importlib._bootstrap&gt;\"</span><span style=\"color: #000000; text-decoration-color: #000000\">, line </span><span style=\"color: #008080; text-decoration-color: #008080; font-weight: bold\">241</span><span style=\"color: #000000; text-decoration-color: #000000\">, in </span>                  <span style=\"color: #7f7f7f; text-decoration-color: #7f7f7f\">               </span>\n",
       "<span style=\"color: #7fbfbf; text-decoration-color: #7fbfbf\">                    </span>         <span style=\"color: #000000; text-decoration-color: #000000\">_call_with_frames_removed</span>                                              <span style=\"color: #7f7f7f; text-decoration-color: #7f7f7f\">               </span>\n",
       "<span style=\"color: #7fbfbf; text-decoration-color: #7fbfbf\">                    </span>         <span style=\"color: #000000; text-decoration-color: #000000\">  File </span>                                                                <span style=\"color: #7f7f7f; text-decoration-color: #7f7f7f\">               </span>\n",
       "<span style=\"color: #7fbfbf; text-decoration-color: #7fbfbf\">                    </span>         <span style=\"color: #008000; text-decoration-color: #008000\">\"C:\\Users\\jfjim_xm8lkod\\12_NN\\NN_Scratch\\00-neural-networks\\src\\00_neu</span> <span style=\"color: #7f7f7f; text-decoration-color: #7f7f7f\">               </span>\n",
       "<span style=\"color: #7fbfbf; text-decoration-color: #7fbfbf\">                    </span>         <span style=\"color: #008000; text-decoration-color: #008000\">ral_networks\\pipelines\\data_science\\__init__.py\"</span><span style=\"color: #000000; text-decoration-color: #000000\">, line </span><span style=\"color: #008080; text-decoration-color: #008080; font-weight: bold\">6</span><span style=\"color: #000000; text-decoration-color: #000000\">, in &lt;module&gt;</span>  <span style=\"color: #7f7f7f; text-decoration-color: #7f7f7f\">               </span>\n",
       "<span style=\"color: #7fbfbf; text-decoration-color: #7fbfbf\">                    </span>         <span style=\"color: #000000; text-decoration-color: #000000\">    from .pipeline import create_pipeline</span>                              <span style=\"color: #7f7f7f; text-decoration-color: #7f7f7f\">               </span>\n",
       "<span style=\"color: #7fbfbf; text-decoration-color: #7fbfbf\">                    </span>         <span style=\"color: #000000; text-decoration-color: #000000\">  File </span>                                                                <span style=\"color: #7f7f7f; text-decoration-color: #7f7f7f\">               </span>\n",
       "<span style=\"color: #7fbfbf; text-decoration-color: #7fbfbf\">                    </span>         <span style=\"color: #008000; text-decoration-color: #008000\">\"C:\\Users\\jfjim_xm8lkod\\12_NN\\NN_Scratch\\00-neural-networks\\src\\00_neu</span> <span style=\"color: #7f7f7f; text-decoration-color: #7f7f7f\">               </span>\n",
       "<span style=\"color: #7fbfbf; text-decoration-color: #7fbfbf\">                    </span>         <span style=\"color: #008000; text-decoration-color: #008000\">ral_networks\\pipelines\\data_science\\pipeline.py\"</span><span style=\"color: #000000; text-decoration-color: #000000\">, line </span><span style=\"color: #008080; text-decoration-color: #008080; font-weight: bold\">7</span><span style=\"color: #000000; text-decoration-color: #000000\">, in &lt;module&gt;</span>  <span style=\"color: #7f7f7f; text-decoration-color: #7f7f7f\">               </span>\n",
       "<span style=\"color: #7fbfbf; text-decoration-color: #7fbfbf\">                    </span>         <span style=\"color: #000000; text-decoration-color: #000000\">    from .nodes import greet</span>                                           <span style=\"color: #7f7f7f; text-decoration-color: #7f7f7f\">               </span>\n",
       "<span style=\"color: #7fbfbf; text-decoration-color: #7fbfbf\">                    </span>         <span style=\"color: #000000; text-decoration-color: #000000\">  File </span>                                                                <span style=\"color: #7f7f7f; text-decoration-color: #7f7f7f\">               </span>\n",
       "<span style=\"color: #7fbfbf; text-decoration-color: #7fbfbf\">                    </span>         <span style=\"color: #008000; text-decoration-color: #008000\">\"C:\\Users\\jfjim_xm8lkod\\12_NN\\NN_Scratch\\00-neural-networks\\src\\00_neu</span> <span style=\"color: #7f7f7f; text-decoration-color: #7f7f7f\">               </span>\n",
       "<span style=\"color: #7fbfbf; text-decoration-color: #7fbfbf\">                    </span>         <span style=\"color: #008000; text-decoration-color: #008000\">ral_networks\\pipelines\\data_science\\nodes.py\"</span><span style=\"color: #000000; text-decoration-color: #000000\">, line </span><span style=\"color: #008080; text-decoration-color: #008080; font-weight: bold\">8</span><span style=\"color: #000000; text-decoration-color: #000000\">, in &lt;module&gt;</span>     <span style=\"color: #7f7f7f; text-decoration-color: #7f7f7f\">               </span>\n",
       "<span style=\"color: #7fbfbf; text-decoration-color: #7fbfbf\">                    </span>         <span style=\"color: #000000; text-decoration-color: #000000\">    from .utilities import Network</span>                                     <span style=\"color: #7f7f7f; text-decoration-color: #7f7f7f\">               </span>\n",
       "<span style=\"color: #7fbfbf; text-decoration-color: #7fbfbf\">                    </span>         <span style=\"color: #000000; text-decoration-color: #000000\">  File </span>                                                                <span style=\"color: #7f7f7f; text-decoration-color: #7f7f7f\">               </span>\n",
       "<span style=\"color: #7fbfbf; text-decoration-color: #7fbfbf\">                    </span>         <span style=\"color: #008000; text-decoration-color: #008000\">\"C:\\Users\\jfjim_xm8lkod\\12_NN\\NN_Scratch\\00-neural-networks\\src\\00_neu</span> <span style=\"color: #7f7f7f; text-decoration-color: #7f7f7f\">               </span>\n",
       "<span style=\"color: #7fbfbf; text-decoration-color: #7fbfbf\">                    </span>         <span style=\"color: #008000; text-decoration-color: #008000\">ral_networks\\pipelines\\data_science\\utilities\\Network.py\"</span><span style=\"color: #000000; text-decoration-color: #000000\">, line </span><span style=\"color: #008080; text-decoration-color: #008080; font-weight: bold\">6</span><span style=\"color: #000000; text-decoration-color: #000000\">, in </span> <span style=\"color: #7f7f7f; text-decoration-color: #7f7f7f\">               </span>\n",
       "<span style=\"color: #7fbfbf; text-decoration-color: #7fbfbf\">                    </span>         <span style=\"color: #000000; text-decoration-color: #000000\">&lt;module</span><span style=\"font-weight: bold\">&gt;</span>                                                               <span style=\"color: #7f7f7f; text-decoration-color: #7f7f7f\">               </span>\n",
       "<span style=\"color: #7fbfbf; text-decoration-color: #7fbfbf\">                    </span>             from  Cost_Functions import QuadraticCost, CrossEntropyCost,       <span style=\"color: #7f7f7f; text-decoration-color: #7f7f7f\">               </span>\n",
       "<span style=\"color: #7fbfbf; text-decoration-color: #7fbfbf\">                    </span>         sigmoid, sigmoid_prime                                                 <span style=\"color: #7f7f7f; text-decoration-color: #7f7f7f\">               </span>\n",
       "<span style=\"color: #7fbfbf; text-decoration-color: #7fbfbf\">                    </span>         ModuleNotFoundError: No module named <span style=\"color: #008000; text-decoration-color: #008000\">'Cost_Functions'</span>                  <span style=\"color: #7f7f7f; text-decoration-color: #7f7f7f\">               </span>\n",
       "<span style=\"color: #7fbfbf; text-decoration-color: #7fbfbf\">                    </span>                                                                                <span style=\"color: #7f7f7f; text-decoration-color: #7f7f7f\">               </span>\n",
       "<span style=\"color: #7fbfbf; text-decoration-color: #7fbfbf\">                    </span>           <span style=\"color: #800080; text-decoration-color: #800080; font-weight: bold\">warnings.warn</span><span style=\"font-weight: bold\">(</span>                                                       <span style=\"color: #7f7f7f; text-decoration-color: #7f7f7f\">               </span>\n",
       "<span style=\"color: #7fbfbf; text-decoration-color: #7fbfbf\">                    </span>                                                                                <span style=\"color: #7f7f7f; text-decoration-color: #7f7f7f\">               </span>\n",
       "</pre>\n"
      ],
      "text/plain": [
       "\u001b[2;36m[10/25/23 13:32:17]\u001b[0m\u001b[2;36m \u001b[0m\u001b[31mWARNING \u001b[0m c:\\Users\\jfjim_xm8lkod\\anaconda3\\envs\\kedro-environment\\lib\\site-packa \u001b]8;id=485638;file://c:\\Users\\jfjim_xm8lkod\\anaconda3\\envs\\kedro-environment\\lib\\warnings.py\u001b\\\u001b[2mwarnings.py\u001b[0m\u001b]8;;\u001b\\\u001b[2m:\u001b[0m\u001b]8;id=643712;file://c:\\Users\\jfjim_xm8lkod\\anaconda3\\envs\\kedro-environment\\lib\\warnings.py#109\u001b\\\u001b[2m109\u001b[0m\u001b]8;;\u001b\\\n",
       "\u001b[2;36m                    \u001b[0m         ges\\kedro\\framework\\project\\__init__.py:\u001b[1;36m372\u001b[0m: UserWarning: An error     \u001b[2m               \u001b[0m\n",
       "\u001b[2;36m                    \u001b[0m         occurred while importing the                                           \u001b[2m               \u001b[0m\n",
       "\u001b[2;36m                    \u001b[0m         \u001b[32m'00_neural_networks.pipelines.data_science'\u001b[0m module. Nothing defined    \u001b[2m               \u001b[0m\n",
       "\u001b[2;36m                    \u001b[0m         therein will be returned by \u001b[32m'find_pipelines'\u001b[0m.                          \u001b[2m               \u001b[0m\n",
       "\u001b[2;36m                    \u001b[0m                                                                                \u001b[2m               \u001b[0m\n",
       "\u001b[2;36m                    \u001b[0m         Traceback \u001b[1m(\u001b[0mmost recent call last\u001b[1m)\u001b[0m:                                     \u001b[2m               \u001b[0m\n",
       "\u001b[2;36m                    \u001b[0m           File                                                                 \u001b[2m               \u001b[0m\n",
       "\u001b[2;36m                    \u001b[0m         \u001b[32m\"c:\\Users\\jfjim_xm8lkod\\anaconda3\\envs\\kedro-environment\\lib\\site-pack\u001b[0m \u001b[2m               \u001b[0m\n",
       "\u001b[2;36m                    \u001b[0m         \u001b[32mages\\kedro\\framework\\project\\__init__.py\"\u001b[0m, line \u001b[1;36m370\u001b[0m, in find_pipelines \u001b[2m               \u001b[0m\n",
       "\u001b[2;36m                    \u001b[0m             pipeline_module = \u001b[1;35mimportlib.import_module\u001b[0m\u001b[1m(\u001b[0mpipeline_module_name\u001b[1m)\u001b[0m    \u001b[2m               \u001b[0m\n",
       "\u001b[2;36m                    \u001b[0m           File                                                                 \u001b[2m               \u001b[0m\n",
       "\u001b[2;36m                    \u001b[0m         \u001b[32m\"c:\\Users\\jfjim_xm8lkod\\anaconda3\\envs\\kedro-environment\\lib\\importlib\u001b[0m \u001b[2m               \u001b[0m\n",
       "\u001b[2;36m                    \u001b[0m         \u001b[32m\\__init__.py\"\u001b[0m, line \u001b[1;36m126\u001b[0m, in import_module                              \u001b[2m               \u001b[0m\n",
       "\u001b[2;36m                    \u001b[0m             return \u001b[1;35m_bootstrap._gcd_import\u001b[0m\u001b[1m(\u001b[0mname\u001b[1m[\u001b[0mlevel:\u001b[1m]\u001b[0m, package, level\u001b[1m)\u001b[0m        \u001b[2m               \u001b[0m\n",
       "\u001b[2;36m                    \u001b[0m           File \u001b[32m\"\u001b[0m\u001b[32m<\u001b[0m\u001b[32mfrozen\u001b[0m\u001b[32m importlib._bootstrap>\"\u001b[0m\u001b[39m, line \u001b[0m\u001b[1;36m1050\u001b[0m\u001b[39m, in _gcd_import\u001b[0m      \u001b[2m               \u001b[0m\n",
       "\u001b[2;36m                    \u001b[0m         \u001b[39m  File \u001b[0m\u001b[32m\"<frozen importlib._bootstrap>\"\u001b[0m\u001b[39m, line \u001b[0m\u001b[1;36m1027\u001b[0m\u001b[39m, in _find_and_load\u001b[0m   \u001b[2m               \u001b[0m\n",
       "\u001b[2;36m                    \u001b[0m         \u001b[39m  File \u001b[0m\u001b[32m\"<frozen importlib._bootstrap>\"\u001b[0m\u001b[39m, line \u001b[0m\u001b[1;36m1006\u001b[0m\u001b[39m, in \u001b[0m                 \u001b[2m               \u001b[0m\n",
       "\u001b[2;36m                    \u001b[0m         \u001b[39m_find_and_load_unlocked\u001b[0m                                                \u001b[2m               \u001b[0m\n",
       "\u001b[2;36m                    \u001b[0m         \u001b[39m  File \u001b[0m\u001b[32m\"<frozen importlib._bootstrap>\"\u001b[0m\u001b[39m, line \u001b[0m\u001b[1;36m688\u001b[0m\u001b[39m, in _load_unlocked\u001b[0m    \u001b[2m               \u001b[0m\n",
       "\u001b[2;36m                    \u001b[0m         \u001b[39m  File \u001b[0m\u001b[32m\"<frozen importlib._bootstrap_external>\"\u001b[0m\u001b[39m, line \u001b[0m\u001b[1;36m883\u001b[0m\u001b[39m, in \u001b[0m         \u001b[2m               \u001b[0m\n",
       "\u001b[2;36m                    \u001b[0m         \u001b[39mexec_module\u001b[0m                                                            \u001b[2m               \u001b[0m\n",
       "\u001b[2;36m                    \u001b[0m         \u001b[39m  File \u001b[0m\u001b[32m\"<frozen importlib._bootstrap>\"\u001b[0m\u001b[39m, line \u001b[0m\u001b[1;36m241\u001b[0m\u001b[39m, in \u001b[0m                  \u001b[2m               \u001b[0m\n",
       "\u001b[2;36m                    \u001b[0m         \u001b[39m_call_with_frames_removed\u001b[0m                                              \u001b[2m               \u001b[0m\n",
       "\u001b[2;36m                    \u001b[0m         \u001b[39m  File \u001b[0m                                                                \u001b[2m               \u001b[0m\n",
       "\u001b[2;36m                    \u001b[0m         \u001b[32m\"C:\\Users\\jfjim_xm8lkod\\12_NN\\NN_Scratch\\00-neural-networks\\src\\00_neu\u001b[0m \u001b[2m               \u001b[0m\n",
       "\u001b[2;36m                    \u001b[0m         \u001b[32mral_networks\\pipelines\\data_science\\__init__.py\"\u001b[0m\u001b[39m, line \u001b[0m\u001b[1;36m6\u001b[0m\u001b[39m, in <module>\u001b[0m  \u001b[2m               \u001b[0m\n",
       "\u001b[2;36m                    \u001b[0m         \u001b[39m    from .pipeline import create_pipeline\u001b[0m                              \u001b[2m               \u001b[0m\n",
       "\u001b[2;36m                    \u001b[0m         \u001b[39m  File \u001b[0m                                                                \u001b[2m               \u001b[0m\n",
       "\u001b[2;36m                    \u001b[0m         \u001b[32m\"C:\\Users\\jfjim_xm8lkod\\12_NN\\NN_Scratch\\00-neural-networks\\src\\00_neu\u001b[0m \u001b[2m               \u001b[0m\n",
       "\u001b[2;36m                    \u001b[0m         \u001b[32mral_networks\\pipelines\\data_science\\pipeline.py\"\u001b[0m\u001b[39m, line \u001b[0m\u001b[1;36m7\u001b[0m\u001b[39m, in <module>\u001b[0m  \u001b[2m               \u001b[0m\n",
       "\u001b[2;36m                    \u001b[0m         \u001b[39m    from .nodes import greet\u001b[0m                                           \u001b[2m               \u001b[0m\n",
       "\u001b[2;36m                    \u001b[0m         \u001b[39m  File \u001b[0m                                                                \u001b[2m               \u001b[0m\n",
       "\u001b[2;36m                    \u001b[0m         \u001b[32m\"C:\\Users\\jfjim_xm8lkod\\12_NN\\NN_Scratch\\00-neural-networks\\src\\00_neu\u001b[0m \u001b[2m               \u001b[0m\n",
       "\u001b[2;36m                    \u001b[0m         \u001b[32mral_networks\\pipelines\\data_science\\nodes.py\"\u001b[0m\u001b[39m, line \u001b[0m\u001b[1;36m8\u001b[0m\u001b[39m, in <module>\u001b[0m     \u001b[2m               \u001b[0m\n",
       "\u001b[2;36m                    \u001b[0m         \u001b[39m    from .utilities import Network\u001b[0m                                     \u001b[2m               \u001b[0m\n",
       "\u001b[2;36m                    \u001b[0m         \u001b[39m  File \u001b[0m                                                                \u001b[2m               \u001b[0m\n",
       "\u001b[2;36m                    \u001b[0m         \u001b[32m\"C:\\Users\\jfjim_xm8lkod\\12_NN\\NN_Scratch\\00-neural-networks\\src\\00_neu\u001b[0m \u001b[2m               \u001b[0m\n",
       "\u001b[2;36m                    \u001b[0m         \u001b[32mral_networks\\pipelines\\data_science\\utilities\\Network.py\"\u001b[0m\u001b[39m, line \u001b[0m\u001b[1;36m6\u001b[0m\u001b[39m, in \u001b[0m \u001b[2m               \u001b[0m\n",
       "\u001b[2;36m                    \u001b[0m         \u001b[39m<module\u001b[0m\u001b[1m>\u001b[0m                                                               \u001b[2m               \u001b[0m\n",
       "\u001b[2;36m                    \u001b[0m             from  Cost_Functions import QuadraticCost, CrossEntropyCost,       \u001b[2m               \u001b[0m\n",
       "\u001b[2;36m                    \u001b[0m         sigmoid, sigmoid_prime                                                 \u001b[2m               \u001b[0m\n",
       "\u001b[2;36m                    \u001b[0m         ModuleNotFoundError: No module named \u001b[32m'Cost_Functions'\u001b[0m                  \u001b[2m               \u001b[0m\n",
       "\u001b[2;36m                    \u001b[0m                                                                                \u001b[2m               \u001b[0m\n",
       "\u001b[2;36m                    \u001b[0m           \u001b[1;35mwarnings.warn\u001b[0m\u001b[1m(\u001b[0m                                                       \u001b[2m               \u001b[0m\n",
       "\u001b[2;36m                    \u001b[0m                                                                                \u001b[2m               \u001b[0m\n"
      ]
     },
     "metadata": {},
     "output_type": "display_data"
    },
    {
     "data": {
      "text/html": [
       "<pre style=\"white-space:pre;overflow-x:auto;line-height:normal;font-family:Menlo,'DejaVu Sans Mono',consolas,'Courier New',monospace\"><span style=\"color: #7fbfbf; text-decoration-color: #7fbfbf\">                    </span><span style=\"color: #800000; text-decoration-color: #800000\">WARNING </span> c:\\Users\\jfjim_xm8lkod\\anaconda3\\envs\\kedro-environment\\lib\\site-packa <a href=\"file://c:\\Users\\jfjim_xm8lkod\\anaconda3\\envs\\kedro-environment\\lib\\warnings.py\" target=\"_blank\"><span style=\"color: #7f7f7f; text-decoration-color: #7f7f7f\">warnings.py</span></a><span style=\"color: #7f7f7f; text-decoration-color: #7f7f7f\">:</span><a href=\"file://c:\\Users\\jfjim_xm8lkod\\anaconda3\\envs\\kedro-environment\\lib\\warnings.py#109\" target=\"_blank\"><span style=\"color: #7f7f7f; text-decoration-color: #7f7f7f\">109</span></a>\n",
       "<span style=\"color: #7fbfbf; text-decoration-color: #7fbfbf\">                    </span>         ges\\kedro\\framework\\project\\__init__.py:<span style=\"color: #008080; text-decoration-color: #008080; font-weight: bold\">372</span>: UserWarning: An error     <span style=\"color: #7f7f7f; text-decoration-color: #7f7f7f\">               </span>\n",
       "<span style=\"color: #7fbfbf; text-decoration-color: #7fbfbf\">                    </span>         occurred while importing the                                           <span style=\"color: #7f7f7f; text-decoration-color: #7f7f7f\">               </span>\n",
       "<span style=\"color: #7fbfbf; text-decoration-color: #7fbfbf\">                    </span>         <span style=\"color: #008000; text-decoration-color: #008000\">'00_neural_networks.pipelines.data_science_2'</span> module. Nothing defined  <span style=\"color: #7f7f7f; text-decoration-color: #7f7f7f\">               </span>\n",
       "<span style=\"color: #7fbfbf; text-decoration-color: #7fbfbf\">                    </span>         therein will be returned by <span style=\"color: #008000; text-decoration-color: #008000\">'find_pipelines'</span>.                          <span style=\"color: #7f7f7f; text-decoration-color: #7f7f7f\">               </span>\n",
       "<span style=\"color: #7fbfbf; text-decoration-color: #7fbfbf\">                    </span>                                                                                <span style=\"color: #7f7f7f; text-decoration-color: #7f7f7f\">               </span>\n",
       "<span style=\"color: #7fbfbf; text-decoration-color: #7fbfbf\">                    </span>         Traceback <span style=\"font-weight: bold\">(</span>most recent call last<span style=\"font-weight: bold\">)</span>:                                     <span style=\"color: #7f7f7f; text-decoration-color: #7f7f7f\">               </span>\n",
       "<span style=\"color: #7fbfbf; text-decoration-color: #7fbfbf\">                    </span>           File                                                                 <span style=\"color: #7f7f7f; text-decoration-color: #7f7f7f\">               </span>\n",
       "<span style=\"color: #7fbfbf; text-decoration-color: #7fbfbf\">                    </span>         <span style=\"color: #008000; text-decoration-color: #008000\">\"c:\\Users\\jfjim_xm8lkod\\anaconda3\\envs\\kedro-environment\\lib\\site-pack</span> <span style=\"color: #7f7f7f; text-decoration-color: #7f7f7f\">               </span>\n",
       "<span style=\"color: #7fbfbf; text-decoration-color: #7fbfbf\">                    </span>         <span style=\"color: #008000; text-decoration-color: #008000\">ages\\kedro\\framework\\project\\__init__.py\"</span>, line <span style=\"color: #008080; text-decoration-color: #008080; font-weight: bold\">370</span>, in find_pipelines <span style=\"color: #7f7f7f; text-decoration-color: #7f7f7f\">               </span>\n",
       "<span style=\"color: #7fbfbf; text-decoration-color: #7fbfbf\">                    </span>             pipeline_module = <span style=\"color: #800080; text-decoration-color: #800080; font-weight: bold\">importlib.import_module</span><span style=\"font-weight: bold\">(</span>pipeline_module_name<span style=\"font-weight: bold\">)</span>    <span style=\"color: #7f7f7f; text-decoration-color: #7f7f7f\">               </span>\n",
       "<span style=\"color: #7fbfbf; text-decoration-color: #7fbfbf\">                    </span>           File                                                                 <span style=\"color: #7f7f7f; text-decoration-color: #7f7f7f\">               </span>\n",
       "<span style=\"color: #7fbfbf; text-decoration-color: #7fbfbf\">                    </span>         <span style=\"color: #008000; text-decoration-color: #008000\">\"c:\\Users\\jfjim_xm8lkod\\anaconda3\\envs\\kedro-environment\\lib\\importlib</span> <span style=\"color: #7f7f7f; text-decoration-color: #7f7f7f\">               </span>\n",
       "<span style=\"color: #7fbfbf; text-decoration-color: #7fbfbf\">                    </span>         <span style=\"color: #008000; text-decoration-color: #008000\">\\__init__.py\"</span>, line <span style=\"color: #008080; text-decoration-color: #008080; font-weight: bold\">126</span>, in import_module                              <span style=\"color: #7f7f7f; text-decoration-color: #7f7f7f\">               </span>\n",
       "<span style=\"color: #7fbfbf; text-decoration-color: #7fbfbf\">                    </span>             return <span style=\"color: #800080; text-decoration-color: #800080; font-weight: bold\">_bootstrap._gcd_import</span><span style=\"font-weight: bold\">(</span>name<span style=\"font-weight: bold\">[</span>level:<span style=\"font-weight: bold\">]</span>, package, level<span style=\"font-weight: bold\">)</span>        <span style=\"color: #7f7f7f; text-decoration-color: #7f7f7f\">               </span>\n",
       "<span style=\"color: #7fbfbf; text-decoration-color: #7fbfbf\">                    </span>           File <span style=\"color: #008000; text-decoration-color: #008000\">\"&lt;frozen importlib._bootstrap&gt;\"</span><span style=\"color: #000000; text-decoration-color: #000000\">, line </span><span style=\"color: #008080; text-decoration-color: #008080; font-weight: bold\">1050</span><span style=\"color: #000000; text-decoration-color: #000000\">, in _gcd_import</span>      <span style=\"color: #7f7f7f; text-decoration-color: #7f7f7f\">               </span>\n",
       "<span style=\"color: #7fbfbf; text-decoration-color: #7fbfbf\">                    </span>         <span style=\"color: #000000; text-decoration-color: #000000\">  File </span><span style=\"color: #008000; text-decoration-color: #008000\">\"&lt;frozen importlib._bootstrap&gt;\"</span><span style=\"color: #000000; text-decoration-color: #000000\">, line </span><span style=\"color: #008080; text-decoration-color: #008080; font-weight: bold\">1027</span><span style=\"color: #000000; text-decoration-color: #000000\">, in _find_and_load</span>   <span style=\"color: #7f7f7f; text-decoration-color: #7f7f7f\">               </span>\n",
       "<span style=\"color: #7fbfbf; text-decoration-color: #7fbfbf\">                    </span>         <span style=\"color: #000000; text-decoration-color: #000000\">  File </span><span style=\"color: #008000; text-decoration-color: #008000\">\"&lt;frozen importlib._bootstrap&gt;\"</span><span style=\"color: #000000; text-decoration-color: #000000\">, line </span><span style=\"color: #008080; text-decoration-color: #008080; font-weight: bold\">1006</span><span style=\"color: #000000; text-decoration-color: #000000\">, in </span>                 <span style=\"color: #7f7f7f; text-decoration-color: #7f7f7f\">               </span>\n",
       "<span style=\"color: #7fbfbf; text-decoration-color: #7fbfbf\">                    </span>         <span style=\"color: #000000; text-decoration-color: #000000\">_find_and_load_unlocked</span>                                                <span style=\"color: #7f7f7f; text-decoration-color: #7f7f7f\">               </span>\n",
       "<span style=\"color: #7fbfbf; text-decoration-color: #7fbfbf\">                    </span>         <span style=\"color: #000000; text-decoration-color: #000000\">  File </span><span style=\"color: #008000; text-decoration-color: #008000\">\"&lt;frozen importlib._bootstrap&gt;\"</span><span style=\"color: #000000; text-decoration-color: #000000\">, line </span><span style=\"color: #008080; text-decoration-color: #008080; font-weight: bold\">688</span><span style=\"color: #000000; text-decoration-color: #000000\">, in _load_unlocked</span>    <span style=\"color: #7f7f7f; text-decoration-color: #7f7f7f\">               </span>\n",
       "<span style=\"color: #7fbfbf; text-decoration-color: #7fbfbf\">                    </span>         <span style=\"color: #000000; text-decoration-color: #000000\">  File </span><span style=\"color: #008000; text-decoration-color: #008000\">\"&lt;frozen importlib._bootstrap_external&gt;\"</span><span style=\"color: #000000; text-decoration-color: #000000\">, line </span><span style=\"color: #008080; text-decoration-color: #008080; font-weight: bold\">883</span><span style=\"color: #000000; text-decoration-color: #000000\">, in </span>         <span style=\"color: #7f7f7f; text-decoration-color: #7f7f7f\">               </span>\n",
       "<span style=\"color: #7fbfbf; text-decoration-color: #7fbfbf\">                    </span>         <span style=\"color: #000000; text-decoration-color: #000000\">exec_module</span>                                                            <span style=\"color: #7f7f7f; text-decoration-color: #7f7f7f\">               </span>\n",
       "<span style=\"color: #7fbfbf; text-decoration-color: #7fbfbf\">                    </span>         <span style=\"color: #000000; text-decoration-color: #000000\">  File </span><span style=\"color: #008000; text-decoration-color: #008000\">\"&lt;frozen importlib._bootstrap&gt;\"</span><span style=\"color: #000000; text-decoration-color: #000000\">, line </span><span style=\"color: #008080; text-decoration-color: #008080; font-weight: bold\">241</span><span style=\"color: #000000; text-decoration-color: #000000\">, in </span>                  <span style=\"color: #7f7f7f; text-decoration-color: #7f7f7f\">               </span>\n",
       "<span style=\"color: #7fbfbf; text-decoration-color: #7fbfbf\">                    </span>         <span style=\"color: #000000; text-decoration-color: #000000\">_call_with_frames_removed</span>                                              <span style=\"color: #7f7f7f; text-decoration-color: #7f7f7f\">               </span>\n",
       "<span style=\"color: #7fbfbf; text-decoration-color: #7fbfbf\">                    </span>         <span style=\"color: #000000; text-decoration-color: #000000\">  File </span>                                                                <span style=\"color: #7f7f7f; text-decoration-color: #7f7f7f\">               </span>\n",
       "<span style=\"color: #7fbfbf; text-decoration-color: #7fbfbf\">                    </span>         <span style=\"color: #008000; text-decoration-color: #008000\">\"C:\\Users\\jfjim_xm8lkod\\12_NN\\NN_Scratch\\00-neural-networks\\src\\00_neu</span> <span style=\"color: #7f7f7f; text-decoration-color: #7f7f7f\">               </span>\n",
       "<span style=\"color: #7fbfbf; text-decoration-color: #7fbfbf\">                    </span>         <span style=\"color: #008000; text-decoration-color: #008000\">ral_networks\\pipelines\\data_science_2\\__init__.py\"</span><span style=\"color: #000000; text-decoration-color: #000000\">, line </span><span style=\"color: #008080; text-decoration-color: #008080; font-weight: bold\">6</span><span style=\"color: #000000; text-decoration-color: #000000\">, in </span>        <span style=\"color: #7f7f7f; text-decoration-color: #7f7f7f\">               </span>\n",
       "<span style=\"color: #7fbfbf; text-decoration-color: #7fbfbf\">                    </span>         <span style=\"color: #000000; text-decoration-color: #000000\">&lt;module&gt;</span>                                                               <span style=\"color: #7f7f7f; text-decoration-color: #7f7f7f\">               </span>\n",
       "<span style=\"color: #7fbfbf; text-decoration-color: #7fbfbf\">                    </span>         <span style=\"color: #000000; text-decoration-color: #000000\">    from .pipeline import create_pipeline</span>                              <span style=\"color: #7f7f7f; text-decoration-color: #7f7f7f\">               </span>\n",
       "<span style=\"color: #7fbfbf; text-decoration-color: #7fbfbf\">                    </span>         <span style=\"color: #000000; text-decoration-color: #000000\">  File </span>                                                                <span style=\"color: #7f7f7f; text-decoration-color: #7f7f7f\">               </span>\n",
       "<span style=\"color: #7fbfbf; text-decoration-color: #7fbfbf\">                    </span>         <span style=\"color: #008000; text-decoration-color: #008000\">\"C:\\Users\\jfjim_xm8lkod\\12_NN\\NN_Scratch\\00-neural-networks\\src\\00_neu</span> <span style=\"color: #7f7f7f; text-decoration-color: #7f7f7f\">               </span>\n",
       "<span style=\"color: #7fbfbf; text-decoration-color: #7fbfbf\">                    </span>         <span style=\"color: #008000; text-decoration-color: #008000\">ral_networks\\pipelines\\data_science_2\\pipeline.py\"</span><span style=\"color: #000000; text-decoration-color: #000000\">, line </span><span style=\"color: #008080; text-decoration-color: #008080; font-weight: bold\">7</span><span style=\"color: #000000; text-decoration-color: #000000\">, in </span>        <span style=\"color: #7f7f7f; text-decoration-color: #7f7f7f\">               </span>\n",
       "<span style=\"color: #7fbfbf; text-decoration-color: #7fbfbf\">                    </span>         <span style=\"color: #000000; text-decoration-color: #000000\">&lt;module&gt;</span>                                                               <span style=\"color: #7f7f7f; text-decoration-color: #7f7f7f\">               </span>\n",
       "<span style=\"color: #7fbfbf; text-decoration-color: #7fbfbf\">                    </span>         <span style=\"color: #000000; text-decoration-color: #000000\">    from .nodes import train_model</span>                                     <span style=\"color: #7f7f7f; text-decoration-color: #7f7f7f\">               </span>\n",
       "<span style=\"color: #7fbfbf; text-decoration-color: #7fbfbf\">                    </span>         <span style=\"color: #000000; text-decoration-color: #000000\">  File </span>                                                                <span style=\"color: #7f7f7f; text-decoration-color: #7f7f7f\">               </span>\n",
       "<span style=\"color: #7fbfbf; text-decoration-color: #7fbfbf\">                    </span>         <span style=\"color: #008000; text-decoration-color: #008000\">\"C:\\Users\\jfjim_xm8lkod\\12_NN\\NN_Scratch\\00-neural-networks\\src\\00_neu</span> <span style=\"color: #7f7f7f; text-decoration-color: #7f7f7f\">               </span>\n",
       "<span style=\"color: #7fbfbf; text-decoration-color: #7fbfbf\">                    </span>         <span style=\"color: #008000; text-decoration-color: #008000\">ral_networks\\pipelines\\data_science_2\\nodes.py\"</span><span style=\"color: #000000; text-decoration-color: #000000\">, line </span><span style=\"color: #008080; text-decoration-color: #008080; font-weight: bold\">12</span><span style=\"color: #000000; text-decoration-color: #000000\">, in &lt;module&gt;</span>  <span style=\"color: #7f7f7f; text-decoration-color: #7f7f7f\">               </span>\n",
       "<span style=\"color: #7fbfbf; text-decoration-color: #7fbfbf\">                    </span>         <span style=\"color: #000000; text-decoration-color: #000000\">    from .utilities import Network</span>                                     <span style=\"color: #7f7f7f; text-decoration-color: #7f7f7f\">               </span>\n",
       "<span style=\"color: #7fbfbf; text-decoration-color: #7fbfbf\">                    </span>         <span style=\"color: #000000; text-decoration-color: #000000\">  File </span>                                                                <span style=\"color: #7f7f7f; text-decoration-color: #7f7f7f\">               </span>\n",
       "<span style=\"color: #7fbfbf; text-decoration-color: #7fbfbf\">                    </span>         <span style=\"color: #008000; text-decoration-color: #008000\">\"C:\\Users\\jfjim_xm8lkod\\12_NN\\NN_Scratch\\00-neural-networks\\src\\00_neu</span> <span style=\"color: #7f7f7f; text-decoration-color: #7f7f7f\">               </span>\n",
       "<span style=\"color: #7fbfbf; text-decoration-color: #7fbfbf\">                    </span>         <span style=\"color: #008000; text-decoration-color: #008000\">ral_networks\\pipelines\\data_science_2\\utilities\\Network.py\"</span><span style=\"color: #000000; text-decoration-color: #000000\">, line </span><span style=\"color: #008080; text-decoration-color: #008080; font-weight: bold\">6</span><span style=\"color: #000000; text-decoration-color: #000000\">, </span>  <span style=\"color: #7f7f7f; text-decoration-color: #7f7f7f\">               </span>\n",
       "<span style=\"color: #7fbfbf; text-decoration-color: #7fbfbf\">                    </span>         <span style=\"color: #000000; text-decoration-color: #000000\">in &lt;module</span><span style=\"font-weight: bold\">&gt;</span>                                                            <span style=\"color: #7f7f7f; text-decoration-color: #7f7f7f\">               </span>\n",
       "<span style=\"color: #7fbfbf; text-decoration-color: #7fbfbf\">                    </span>             from  Cost_Functions import QuadraticCost, CrossEntropyCost,       <span style=\"color: #7f7f7f; text-decoration-color: #7f7f7f\">               </span>\n",
       "<span style=\"color: #7fbfbf; text-decoration-color: #7fbfbf\">                    </span>         sigmoid, sigmoid_prime                                                 <span style=\"color: #7f7f7f; text-decoration-color: #7f7f7f\">               </span>\n",
       "<span style=\"color: #7fbfbf; text-decoration-color: #7fbfbf\">                    </span>         ModuleNotFoundError: No module named <span style=\"color: #008000; text-decoration-color: #008000\">'Cost_Functions'</span>                  <span style=\"color: #7f7f7f; text-decoration-color: #7f7f7f\">               </span>\n",
       "<span style=\"color: #7fbfbf; text-decoration-color: #7fbfbf\">                    </span>                                                                                <span style=\"color: #7f7f7f; text-decoration-color: #7f7f7f\">               </span>\n",
       "<span style=\"color: #7fbfbf; text-decoration-color: #7fbfbf\">                    </span>           <span style=\"color: #800080; text-decoration-color: #800080; font-weight: bold\">warnings.warn</span><span style=\"font-weight: bold\">(</span>                                                       <span style=\"color: #7f7f7f; text-decoration-color: #7f7f7f\">               </span>\n",
       "<span style=\"color: #7fbfbf; text-decoration-color: #7fbfbf\">                    </span>                                                                                <span style=\"color: #7f7f7f; text-decoration-color: #7f7f7f\">               </span>\n",
       "</pre>\n"
      ],
      "text/plain": [
       "\u001b[2;36m                   \u001b[0m\u001b[2;36m \u001b[0m\u001b[31mWARNING \u001b[0m c:\\Users\\jfjim_xm8lkod\\anaconda3\\envs\\kedro-environment\\lib\\site-packa \u001b]8;id=426357;file://c:\\Users\\jfjim_xm8lkod\\anaconda3\\envs\\kedro-environment\\lib\\warnings.py\u001b\\\u001b[2mwarnings.py\u001b[0m\u001b]8;;\u001b\\\u001b[2m:\u001b[0m\u001b]8;id=669721;file://c:\\Users\\jfjim_xm8lkod\\anaconda3\\envs\\kedro-environment\\lib\\warnings.py#109\u001b\\\u001b[2m109\u001b[0m\u001b]8;;\u001b\\\n",
       "\u001b[2;36m                    \u001b[0m         ges\\kedro\\framework\\project\\__init__.py:\u001b[1;36m372\u001b[0m: UserWarning: An error     \u001b[2m               \u001b[0m\n",
       "\u001b[2;36m                    \u001b[0m         occurred while importing the                                           \u001b[2m               \u001b[0m\n",
       "\u001b[2;36m                    \u001b[0m         \u001b[32m'00_neural_networks.pipelines.data_science_2'\u001b[0m module. Nothing defined  \u001b[2m               \u001b[0m\n",
       "\u001b[2;36m                    \u001b[0m         therein will be returned by \u001b[32m'find_pipelines'\u001b[0m.                          \u001b[2m               \u001b[0m\n",
       "\u001b[2;36m                    \u001b[0m                                                                                \u001b[2m               \u001b[0m\n",
       "\u001b[2;36m                    \u001b[0m         Traceback \u001b[1m(\u001b[0mmost recent call last\u001b[1m)\u001b[0m:                                     \u001b[2m               \u001b[0m\n",
       "\u001b[2;36m                    \u001b[0m           File                                                                 \u001b[2m               \u001b[0m\n",
       "\u001b[2;36m                    \u001b[0m         \u001b[32m\"c:\\Users\\jfjim_xm8lkod\\anaconda3\\envs\\kedro-environment\\lib\\site-pack\u001b[0m \u001b[2m               \u001b[0m\n",
       "\u001b[2;36m                    \u001b[0m         \u001b[32mages\\kedro\\framework\\project\\__init__.py\"\u001b[0m, line \u001b[1;36m370\u001b[0m, in find_pipelines \u001b[2m               \u001b[0m\n",
       "\u001b[2;36m                    \u001b[0m             pipeline_module = \u001b[1;35mimportlib.import_module\u001b[0m\u001b[1m(\u001b[0mpipeline_module_name\u001b[1m)\u001b[0m    \u001b[2m               \u001b[0m\n",
       "\u001b[2;36m                    \u001b[0m           File                                                                 \u001b[2m               \u001b[0m\n",
       "\u001b[2;36m                    \u001b[0m         \u001b[32m\"c:\\Users\\jfjim_xm8lkod\\anaconda3\\envs\\kedro-environment\\lib\\importlib\u001b[0m \u001b[2m               \u001b[0m\n",
       "\u001b[2;36m                    \u001b[0m         \u001b[32m\\__init__.py\"\u001b[0m, line \u001b[1;36m126\u001b[0m, in import_module                              \u001b[2m               \u001b[0m\n",
       "\u001b[2;36m                    \u001b[0m             return \u001b[1;35m_bootstrap._gcd_import\u001b[0m\u001b[1m(\u001b[0mname\u001b[1m[\u001b[0mlevel:\u001b[1m]\u001b[0m, package, level\u001b[1m)\u001b[0m        \u001b[2m               \u001b[0m\n",
       "\u001b[2;36m                    \u001b[0m           File \u001b[32m\"\u001b[0m\u001b[32m<\u001b[0m\u001b[32mfrozen\u001b[0m\u001b[32m importlib._bootstrap>\"\u001b[0m\u001b[39m, line \u001b[0m\u001b[1;36m1050\u001b[0m\u001b[39m, in _gcd_import\u001b[0m      \u001b[2m               \u001b[0m\n",
       "\u001b[2;36m                    \u001b[0m         \u001b[39m  File \u001b[0m\u001b[32m\"<frozen importlib._bootstrap>\"\u001b[0m\u001b[39m, line \u001b[0m\u001b[1;36m1027\u001b[0m\u001b[39m, in _find_and_load\u001b[0m   \u001b[2m               \u001b[0m\n",
       "\u001b[2;36m                    \u001b[0m         \u001b[39m  File \u001b[0m\u001b[32m\"<frozen importlib._bootstrap>\"\u001b[0m\u001b[39m, line \u001b[0m\u001b[1;36m1006\u001b[0m\u001b[39m, in \u001b[0m                 \u001b[2m               \u001b[0m\n",
       "\u001b[2;36m                    \u001b[0m         \u001b[39m_find_and_load_unlocked\u001b[0m                                                \u001b[2m               \u001b[0m\n",
       "\u001b[2;36m                    \u001b[0m         \u001b[39m  File \u001b[0m\u001b[32m\"<frozen importlib._bootstrap>\"\u001b[0m\u001b[39m, line \u001b[0m\u001b[1;36m688\u001b[0m\u001b[39m, in _load_unlocked\u001b[0m    \u001b[2m               \u001b[0m\n",
       "\u001b[2;36m                    \u001b[0m         \u001b[39m  File \u001b[0m\u001b[32m\"<frozen importlib._bootstrap_external>\"\u001b[0m\u001b[39m, line \u001b[0m\u001b[1;36m883\u001b[0m\u001b[39m, in \u001b[0m         \u001b[2m               \u001b[0m\n",
       "\u001b[2;36m                    \u001b[0m         \u001b[39mexec_module\u001b[0m                                                            \u001b[2m               \u001b[0m\n",
       "\u001b[2;36m                    \u001b[0m         \u001b[39m  File \u001b[0m\u001b[32m\"<frozen importlib._bootstrap>\"\u001b[0m\u001b[39m, line \u001b[0m\u001b[1;36m241\u001b[0m\u001b[39m, in \u001b[0m                  \u001b[2m               \u001b[0m\n",
       "\u001b[2;36m                    \u001b[0m         \u001b[39m_call_with_frames_removed\u001b[0m                                              \u001b[2m               \u001b[0m\n",
       "\u001b[2;36m                    \u001b[0m         \u001b[39m  File \u001b[0m                                                                \u001b[2m               \u001b[0m\n",
       "\u001b[2;36m                    \u001b[0m         \u001b[32m\"C:\\Users\\jfjim_xm8lkod\\12_NN\\NN_Scratch\\00-neural-networks\\src\\00_neu\u001b[0m \u001b[2m               \u001b[0m\n",
       "\u001b[2;36m                    \u001b[0m         \u001b[32mral_networks\\pipelines\\data_science_2\\__init__.py\"\u001b[0m\u001b[39m, line \u001b[0m\u001b[1;36m6\u001b[0m\u001b[39m, in \u001b[0m        \u001b[2m               \u001b[0m\n",
       "\u001b[2;36m                    \u001b[0m         \u001b[39m<module>\u001b[0m                                                               \u001b[2m               \u001b[0m\n",
       "\u001b[2;36m                    \u001b[0m         \u001b[39m    from .pipeline import create_pipeline\u001b[0m                              \u001b[2m               \u001b[0m\n",
       "\u001b[2;36m                    \u001b[0m         \u001b[39m  File \u001b[0m                                                                \u001b[2m               \u001b[0m\n",
       "\u001b[2;36m                    \u001b[0m         \u001b[32m\"C:\\Users\\jfjim_xm8lkod\\12_NN\\NN_Scratch\\00-neural-networks\\src\\00_neu\u001b[0m \u001b[2m               \u001b[0m\n",
       "\u001b[2;36m                    \u001b[0m         \u001b[32mral_networks\\pipelines\\data_science_2\\pipeline.py\"\u001b[0m\u001b[39m, line \u001b[0m\u001b[1;36m7\u001b[0m\u001b[39m, in \u001b[0m        \u001b[2m               \u001b[0m\n",
       "\u001b[2;36m                    \u001b[0m         \u001b[39m<module>\u001b[0m                                                               \u001b[2m               \u001b[0m\n",
       "\u001b[2;36m                    \u001b[0m         \u001b[39m    from .nodes import train_model\u001b[0m                                     \u001b[2m               \u001b[0m\n",
       "\u001b[2;36m                    \u001b[0m         \u001b[39m  File \u001b[0m                                                                \u001b[2m               \u001b[0m\n",
       "\u001b[2;36m                    \u001b[0m         \u001b[32m\"C:\\Users\\jfjim_xm8lkod\\12_NN\\NN_Scratch\\00-neural-networks\\src\\00_neu\u001b[0m \u001b[2m               \u001b[0m\n",
       "\u001b[2;36m                    \u001b[0m         \u001b[32mral_networks\\pipelines\\data_science_2\\nodes.py\"\u001b[0m\u001b[39m, line \u001b[0m\u001b[1;36m12\u001b[0m\u001b[39m, in <module>\u001b[0m  \u001b[2m               \u001b[0m\n",
       "\u001b[2;36m                    \u001b[0m         \u001b[39m    from .utilities import Network\u001b[0m                                     \u001b[2m               \u001b[0m\n",
       "\u001b[2;36m                    \u001b[0m         \u001b[39m  File \u001b[0m                                                                \u001b[2m               \u001b[0m\n",
       "\u001b[2;36m                    \u001b[0m         \u001b[32m\"C:\\Users\\jfjim_xm8lkod\\12_NN\\NN_Scratch\\00-neural-networks\\src\\00_neu\u001b[0m \u001b[2m               \u001b[0m\n",
       "\u001b[2;36m                    \u001b[0m         \u001b[32mral_networks\\pipelines\\data_science_2\\utilities\\Network.py\"\u001b[0m\u001b[39m, line \u001b[0m\u001b[1;36m6\u001b[0m\u001b[39m, \u001b[0m  \u001b[2m               \u001b[0m\n",
       "\u001b[2;36m                    \u001b[0m         \u001b[39min <module\u001b[0m\u001b[1m>\u001b[0m                                                            \u001b[2m               \u001b[0m\n",
       "\u001b[2;36m                    \u001b[0m             from  Cost_Functions import QuadraticCost, CrossEntropyCost,       \u001b[2m               \u001b[0m\n",
       "\u001b[2;36m                    \u001b[0m         sigmoid, sigmoid_prime                                                 \u001b[2m               \u001b[0m\n",
       "\u001b[2;36m                    \u001b[0m         ModuleNotFoundError: No module named \u001b[32m'Cost_Functions'\u001b[0m                  \u001b[2m               \u001b[0m\n",
       "\u001b[2;36m                    \u001b[0m                                                                                \u001b[2m               \u001b[0m\n",
       "\u001b[2;36m                    \u001b[0m           \u001b[1;35mwarnings.warn\u001b[0m\u001b[1m(\u001b[0m                                                       \u001b[2m               \u001b[0m\n",
       "\u001b[2;36m                    \u001b[0m                                                                                \u001b[2m               \u001b[0m\n"
      ]
     },
     "metadata": {},
     "output_type": "display_data"
    }
   ],
   "source": [
    "os.chdir(\"c:\\\\Users\\\\jfjim_xm8lkod\\\\12_NN\\\\NN_Scratch\\\\00-neural-networks\")\n",
    "root_path = os.getcwd()\n",
    "bootstrap_project(root_path)\n",
    "with KedroSession.create() as session:\n",
    "    #session.run()\n",
    "    catalog = session.load_context().catalog"
   ]
  },
  {
   "cell_type": "markdown",
   "metadata": {},
   "source": [
    "## Read data_science pipelines' parameters"
   ]
  },
  {
   "cell_type": "code",
   "execution_count": 3,
   "metadata": {},
   "outputs": [],
   "source": [
    "import yaml\n",
    "param_ds = os.path.join(os.getcwd(),'conf/base/parameters/data_science.yml')\n",
    "\n",
    "with open(param_ds, 'r') as stream:\n",
    "    params = yaml.safe_load(stream)"
   ]
  },
  {
   "cell_type": "markdown",
   "metadata": {},
   "source": [
    "## Import the class Network "
   ]
  },
  {
   "cell_type": "code",
   "execution_count": 4,
   "metadata": {},
   "outputs": [],
   "source": [
    "os.chdir(\"c:\\\\Users\\\\jfjim_xm8lkod\\\\12_NN\\\\NN_Scratch\\\\00-neural-networks\\\\src\\\\00_neural_networks\\\\pipelines\\\\data_science\\\\utilities\")\n"
   ]
  },
  {
   "cell_type": "code",
   "execution_count": 5,
   "metadata": {},
   "outputs": [],
   "source": [
    "import Network"
   ]
  },
  {
   "cell_type": "markdown",
   "metadata": {},
   "source": [
    "## Load Data"
   ]
  },
  {
   "cell_type": "code",
   "execution_count": 6,
   "metadata": {},
   "outputs": [
    {
     "data": {
      "text/html": [
       "<pre style=\"white-space:pre;overflow-x:auto;line-height:normal;font-family:Menlo,'DejaVu Sans Mono',consolas,'Courier New',monospace\"><span style=\"color: #7fbfbf; text-decoration-color: #7fbfbf\">                    </span><span style=\"color: #000080; text-decoration-color: #000080\">INFO    </span> Loading data from <span style=\"color: #008000; text-decoration-color: #008000\">'model_input_table'</span> <span style=\"font-weight: bold\">(</span>PickleDataSet<span style=\"font-weight: bold\">)</span><span style=\"color: #808000; text-decoration-color: #808000\">...</span>           <a href=\"file://c:\\Users\\jfjim_xm8lkod\\anaconda3\\envs\\kedro-environment\\lib\\site-packages\\kedro\\io\\data_catalog.py\" target=\"_blank\"><span style=\"color: #7f7f7f; text-decoration-color: #7f7f7f\">data_catalog.py</span></a><span style=\"color: #7f7f7f; text-decoration-color: #7f7f7f\">:</span><a href=\"file://c:\\Users\\jfjim_xm8lkod\\anaconda3\\envs\\kedro-environment\\lib\\site-packages\\kedro\\io\\data_catalog.py#343\" target=\"_blank\"><span style=\"color: #7f7f7f; text-decoration-color: #7f7f7f\">343</span></a>\n",
       "</pre>\n"
      ],
      "text/plain": [
       "\u001b[2;36m                   \u001b[0m\u001b[2;36m \u001b[0m\u001b[34mINFO    \u001b[0m Loading data from \u001b[32m'model_input_table'\u001b[0m \u001b[1m(\u001b[0mPickleDataSet\u001b[1m)\u001b[0m\u001b[33m...\u001b[0m           \u001b]8;id=584532;file://c:\\Users\\jfjim_xm8lkod\\anaconda3\\envs\\kedro-environment\\lib\\site-packages\\kedro\\io\\data_catalog.py\u001b\\\u001b[2mdata_catalog.py\u001b[0m\u001b]8;;\u001b\\\u001b[2m:\u001b[0m\u001b]8;id=159765;file://c:\\Users\\jfjim_xm8lkod\\anaconda3\\envs\\kedro-environment\\lib\\site-packages\\kedro\\io\\data_catalog.py#343\u001b\\\u001b[2m343\u001b[0m\u001b]8;;\u001b\\\n"
      ]
     },
     "metadata": {},
     "output_type": "display_data"
    }
   ],
   "source": [
    "model_input_table = catalog.load('model_input_table')\n",
    "training_data, validation_data, test_data = model_input_table"
   ]
  },
  {
   "cell_type": "markdown",
   "metadata": {},
   "source": [
    "## Define structure of the network"
   ]
  },
  {
   "cell_type": "code",
   "execution_count": 7,
   "metadata": {},
   "outputs": [],
   "source": [
    "# Layers and neurons\n",
    "sizes = params['model_options']['sizes']\n",
    "# cost function\n",
    "cost = params['model_options']['cost']\n",
    "if hasattr(Network, cost):\n",
    "    cost = getattr(Network, cost)\n",
    "else: \n",
    "    print(f\"Network has no function named {cost}\")\n",
    "# Learning rate\n",
    "eta = params['model_options']['eta']\n",
    "epochs = params['model_options']['epochs']\n",
    "mini_batch_size = params['model_options']['mini_batch_size']\n",
    "monitor_evaluation_accuracy = params['model_options']['monitor_evaluation_accuracy']\n",
    "regularization = params['model_options']['regularization']"
   ]
  },
  {
   "cell_type": "code",
   "execution_count": 9,
   "metadata": {},
   "outputs": [],
   "source": [
    "net = Network.Network(sizes=sizes,cost = cost)"
   ]
  },
  {
   "cell_type": "code",
   "execution_count": 10,
   "metadata": {},
   "outputs": [
    {
     "name": "stdout",
     "output_type": "stream",
     "text": [
      "Epoch 0 training complete\n"
     ]
    },
    {
     "data": {
      "text/html": [
       "<pre style=\"white-space:pre;overflow-x:auto;line-height:normal;font-family:Menlo,'DejaVu Sans Mono',consolas,'Courier New',monospace\"><span style=\"color: #7fbfbf; text-decoration-color: #7fbfbf\">[10/25/23 13:32:47] </span><span style=\"color: #000080; text-decoration-color: #000080\">INFO    </span> Accuracy on evaluation data: <span style=\"color: #008080; text-decoration-color: #008080; font-weight: bold\">9123</span> <span style=\"color: #800080; text-decoration-color: #800080\">/</span> <span style=\"color: #008080; text-decoration-color: #008080; font-weight: bold\">10000</span>                               <a href=\"file://c:\\Users\\jfjim_xm8lkod\\12_NN\\NN_Scratch\\00-neural-networks\\src\\00_neural_networks\\pipelines\\data_science\\utilities\\Network.py\" target=\"_blank\"><span style=\"color: #7f7f7f; text-decoration-color: #7f7f7f\">Network.py</span></a><span style=\"color: #7f7f7f; text-decoration-color: #7f7f7f\">:</span><a href=\"file://c:\\Users\\jfjim_xm8lkod\\12_NN\\NN_Scratch\\00-neural-networks\\src\\00_neural_networks\\pipelines\\data_science\\utilities\\Network.py#238\" target=\"_blank\"><span style=\"color: #7f7f7f; text-decoration-color: #7f7f7f\">238</span></a>\n",
       "</pre>\n"
      ],
      "text/plain": [
       "\u001b[2;36m[10/25/23 13:32:47]\u001b[0m\u001b[2;36m \u001b[0m\u001b[34mINFO    \u001b[0m Accuracy on evaluation data: \u001b[1;36m9123\u001b[0m \u001b[35m/\u001b[0m \u001b[1;36m10000\u001b[0m                               \u001b]8;id=456953;file://c:\\Users\\jfjim_xm8lkod\\12_NN\\NN_Scratch\\00-neural-networks\\src\\00_neural_networks\\pipelines\\data_science\\utilities\\Network.py\u001b\\\u001b[2mNetwork.py\u001b[0m\u001b]8;;\u001b\\\u001b[2m:\u001b[0m\u001b]8;id=487555;file://c:\\Users\\jfjim_xm8lkod\\12_NN\\NN_Scratch\\00-neural-networks\\src\\00_neural_networks\\pipelines\\data_science\\utilities\\Network.py#238\u001b\\\u001b[2m238\u001b[0m\u001b]8;;\u001b\\\n"
      ]
     },
     "metadata": {},
     "output_type": "display_data"
    },
    {
     "name": "stdout",
     "output_type": "stream",
     "text": [
      "The first 10 epochs have not finished yet\n",
      "Epoch 1 training complete\n"
     ]
    },
    {
     "data": {
      "text/html": [
       "<pre style=\"white-space:pre;overflow-x:auto;line-height:normal;font-family:Menlo,'DejaVu Sans Mono',consolas,'Courier New',monospace\"><span style=\"color: #7fbfbf; text-decoration-color: #7fbfbf\">[10/25/23 13:32:56] </span><span style=\"color: #000080; text-decoration-color: #000080\">INFO    </span> Accuracy on evaluation data: <span style=\"color: #008080; text-decoration-color: #008080; font-weight: bold\">9264</span> <span style=\"color: #800080; text-decoration-color: #800080\">/</span> <span style=\"color: #008080; text-decoration-color: #008080; font-weight: bold\">10000</span>                               <a href=\"file://c:\\Users\\jfjim_xm8lkod\\12_NN\\NN_Scratch\\00-neural-networks\\src\\00_neural_networks\\pipelines\\data_science\\utilities\\Network.py\" target=\"_blank\"><span style=\"color: #7f7f7f; text-decoration-color: #7f7f7f\">Network.py</span></a><span style=\"color: #7f7f7f; text-decoration-color: #7f7f7f\">:</span><a href=\"file://c:\\Users\\jfjim_xm8lkod\\12_NN\\NN_Scratch\\00-neural-networks\\src\\00_neural_networks\\pipelines\\data_science\\utilities\\Network.py#238\" target=\"_blank\"><span style=\"color: #7f7f7f; text-decoration-color: #7f7f7f\">238</span></a>\n",
       "</pre>\n"
      ],
      "text/plain": [
       "\u001b[2;36m[10/25/23 13:32:56]\u001b[0m\u001b[2;36m \u001b[0m\u001b[34mINFO    \u001b[0m Accuracy on evaluation data: \u001b[1;36m9264\u001b[0m \u001b[35m/\u001b[0m \u001b[1;36m10000\u001b[0m                               \u001b]8;id=499876;file://c:\\Users\\jfjim_xm8lkod\\12_NN\\NN_Scratch\\00-neural-networks\\src\\00_neural_networks\\pipelines\\data_science\\utilities\\Network.py\u001b\\\u001b[2mNetwork.py\u001b[0m\u001b]8;;\u001b\\\u001b[2m:\u001b[0m\u001b]8;id=947995;file://c:\\Users\\jfjim_xm8lkod\\12_NN\\NN_Scratch\\00-neural-networks\\src\\00_neural_networks\\pipelines\\data_science\\utilities\\Network.py#238\u001b\\\u001b[2m238\u001b[0m\u001b]8;;\u001b\\\n"
      ]
     },
     "metadata": {},
     "output_type": "display_data"
    },
    {
     "name": "stdout",
     "output_type": "stream",
     "text": [
      "The first 10 epochs have not finished yet\n",
      "Epoch 2 training complete\n"
     ]
    },
    {
     "data": {
      "text/html": [
       "<pre style=\"white-space:pre;overflow-x:auto;line-height:normal;font-family:Menlo,'DejaVu Sans Mono',consolas,'Courier New',monospace\"><span style=\"color: #7fbfbf; text-decoration-color: #7fbfbf\">[10/25/23 13:33:07] </span><span style=\"color: #000080; text-decoration-color: #000080\">INFO    </span> Accuracy on evaluation data: <span style=\"color: #008080; text-decoration-color: #008080; font-weight: bold\">9248</span> <span style=\"color: #800080; text-decoration-color: #800080\">/</span> <span style=\"color: #008080; text-decoration-color: #008080; font-weight: bold\">10000</span>                               <a href=\"file://c:\\Users\\jfjim_xm8lkod\\12_NN\\NN_Scratch\\00-neural-networks\\src\\00_neural_networks\\pipelines\\data_science\\utilities\\Network.py\" target=\"_blank\"><span style=\"color: #7f7f7f; text-decoration-color: #7f7f7f\">Network.py</span></a><span style=\"color: #7f7f7f; text-decoration-color: #7f7f7f\">:</span><a href=\"file://c:\\Users\\jfjim_xm8lkod\\12_NN\\NN_Scratch\\00-neural-networks\\src\\00_neural_networks\\pipelines\\data_science\\utilities\\Network.py#238\" target=\"_blank\"><span style=\"color: #7f7f7f; text-decoration-color: #7f7f7f\">238</span></a>\n",
       "</pre>\n"
      ],
      "text/plain": [
       "\u001b[2;36m[10/25/23 13:33:07]\u001b[0m\u001b[2;36m \u001b[0m\u001b[34mINFO    \u001b[0m Accuracy on evaluation data: \u001b[1;36m9248\u001b[0m \u001b[35m/\u001b[0m \u001b[1;36m10000\u001b[0m                               \u001b]8;id=207993;file://c:\\Users\\jfjim_xm8lkod\\12_NN\\NN_Scratch\\00-neural-networks\\src\\00_neural_networks\\pipelines\\data_science\\utilities\\Network.py\u001b\\\u001b[2mNetwork.py\u001b[0m\u001b]8;;\u001b\\\u001b[2m:\u001b[0m\u001b]8;id=259244;file://c:\\Users\\jfjim_xm8lkod\\12_NN\\NN_Scratch\\00-neural-networks\\src\\00_neural_networks\\pipelines\\data_science\\utilities\\Network.py#238\u001b\\\u001b[2m238\u001b[0m\u001b]8;;\u001b\\\n"
      ]
     },
     "metadata": {},
     "output_type": "display_data"
    },
    {
     "name": "stdout",
     "output_type": "stream",
     "text": [
      "The first 10 epochs have not finished yet\n",
      "Epoch 3 training complete\n"
     ]
    },
    {
     "data": {
      "text/html": [
       "<pre style=\"white-space:pre;overflow-x:auto;line-height:normal;font-family:Menlo,'DejaVu Sans Mono',consolas,'Courier New',monospace\"><span style=\"color: #7fbfbf; text-decoration-color: #7fbfbf\">[10/25/23 13:33:18] </span><span style=\"color: #000080; text-decoration-color: #000080\">INFO    </span> Accuracy on evaluation data: <span style=\"color: #008080; text-decoration-color: #008080; font-weight: bold\">9283</span> <span style=\"color: #800080; text-decoration-color: #800080\">/</span> <span style=\"color: #008080; text-decoration-color: #008080; font-weight: bold\">10000</span>                               <a href=\"file://c:\\Users\\jfjim_xm8lkod\\12_NN\\NN_Scratch\\00-neural-networks\\src\\00_neural_networks\\pipelines\\data_science\\utilities\\Network.py\" target=\"_blank\"><span style=\"color: #7f7f7f; text-decoration-color: #7f7f7f\">Network.py</span></a><span style=\"color: #7f7f7f; text-decoration-color: #7f7f7f\">:</span><a href=\"file://c:\\Users\\jfjim_xm8lkod\\12_NN\\NN_Scratch\\00-neural-networks\\src\\00_neural_networks\\pipelines\\data_science\\utilities\\Network.py#238\" target=\"_blank\"><span style=\"color: #7f7f7f; text-decoration-color: #7f7f7f\">238</span></a>\n",
       "</pre>\n"
      ],
      "text/plain": [
       "\u001b[2;36m[10/25/23 13:33:18]\u001b[0m\u001b[2;36m \u001b[0m\u001b[34mINFO    \u001b[0m Accuracy on evaluation data: \u001b[1;36m9283\u001b[0m \u001b[35m/\u001b[0m \u001b[1;36m10000\u001b[0m                               \u001b]8;id=357208;file://c:\\Users\\jfjim_xm8lkod\\12_NN\\NN_Scratch\\00-neural-networks\\src\\00_neural_networks\\pipelines\\data_science\\utilities\\Network.py\u001b\\\u001b[2mNetwork.py\u001b[0m\u001b]8;;\u001b\\\u001b[2m:\u001b[0m\u001b]8;id=914445;file://c:\\Users\\jfjim_xm8lkod\\12_NN\\NN_Scratch\\00-neural-networks\\src\\00_neural_networks\\pipelines\\data_science\\utilities\\Network.py#238\u001b\\\u001b[2m238\u001b[0m\u001b]8;;\u001b\\\n"
      ]
     },
     "metadata": {},
     "output_type": "display_data"
    },
    {
     "name": "stdout",
     "output_type": "stream",
     "text": [
      "The first 10 epochs have not finished yet\n",
      "Epoch 4 training complete\n"
     ]
    },
    {
     "data": {
      "text/html": [
       "<pre style=\"white-space:pre;overflow-x:auto;line-height:normal;font-family:Menlo,'DejaVu Sans Mono',consolas,'Courier New',monospace\"><span style=\"color: #7fbfbf; text-decoration-color: #7fbfbf\">[10/25/23 13:33:29] </span><span style=\"color: #000080; text-decoration-color: #000080\">INFO    </span> Accuracy on evaluation data: <span style=\"color: #008080; text-decoration-color: #008080; font-weight: bold\">9292</span> <span style=\"color: #800080; text-decoration-color: #800080\">/</span> <span style=\"color: #008080; text-decoration-color: #008080; font-weight: bold\">10000</span>                               <a href=\"file://c:\\Users\\jfjim_xm8lkod\\12_NN\\NN_Scratch\\00-neural-networks\\src\\00_neural_networks\\pipelines\\data_science\\utilities\\Network.py\" target=\"_blank\"><span style=\"color: #7f7f7f; text-decoration-color: #7f7f7f\">Network.py</span></a><span style=\"color: #7f7f7f; text-decoration-color: #7f7f7f\">:</span><a href=\"file://c:\\Users\\jfjim_xm8lkod\\12_NN\\NN_Scratch\\00-neural-networks\\src\\00_neural_networks\\pipelines\\data_science\\utilities\\Network.py#238\" target=\"_blank\"><span style=\"color: #7f7f7f; text-decoration-color: #7f7f7f\">238</span></a>\n",
       "</pre>\n"
      ],
      "text/plain": [
       "\u001b[2;36m[10/25/23 13:33:29]\u001b[0m\u001b[2;36m \u001b[0m\u001b[34mINFO    \u001b[0m Accuracy on evaluation data: \u001b[1;36m9292\u001b[0m \u001b[35m/\u001b[0m \u001b[1;36m10000\u001b[0m                               \u001b]8;id=829911;file://c:\\Users\\jfjim_xm8lkod\\12_NN\\NN_Scratch\\00-neural-networks\\src\\00_neural_networks\\pipelines\\data_science\\utilities\\Network.py\u001b\\\u001b[2mNetwork.py\u001b[0m\u001b]8;;\u001b\\\u001b[2m:\u001b[0m\u001b]8;id=679804;file://c:\\Users\\jfjim_xm8lkod\\12_NN\\NN_Scratch\\00-neural-networks\\src\\00_neural_networks\\pipelines\\data_science\\utilities\\Network.py#238\u001b\\\u001b[2m238\u001b[0m\u001b]8;;\u001b\\\n"
      ]
     },
     "metadata": {},
     "output_type": "display_data"
    },
    {
     "name": "stdout",
     "output_type": "stream",
     "text": [
      "The first 10 epochs have not finished yet\n"
     ]
    }
   ],
   "source": [
    "import logging\n",
    "logging.basicConfig(level=logging.INFO)\n",
    "net.SGD(training_data=training_data,epochs= epochs, mini_batch_size= mini_batch_size, eta= eta,evaluation_data=test_data, monitor_evaluation_accuracy=monitor_evaluation_accuracy,regularization=regularization)"
   ]
  },
  {
   "cell_type": "code",
   "execution_count": 17,
   "metadata": {},
   "outputs": [
    {
     "data": {
      "text/html": [
       "<pre style=\"white-space:pre;overflow-x:auto;line-height:normal;font-family:Menlo,'DejaVu Sans Mono',consolas,'Courier New',monospace\"></pre>\n"
      ],
      "text/plain": []
     },
     "metadata": {},
     "output_type": "display_data"
    },
    {
     "data": {
      "text/plain": [
       "\n",
       "\u001b[1;35marray\u001b[0m\u001b[1m(\u001b[0m\u001b[1m[\u001b[0m\u001b[1m[\u001b[0m \u001b[1;36m0.28139936\u001b[0m,  \u001b[1;36m0.45043495\u001b[0m,  \u001b[1;36m1.24335557\u001b[0m\u001b[1m]\u001b[0m,\n",
       "       \u001b[1m[\u001b[0m \u001b[1;36m1.92268871\u001b[0m, \u001b[1;36m-1.04878939\u001b[0m,  \u001b[1;36m0.9198021\u001b[0m \u001b[1m]\u001b[0m\u001b[1m]\u001b[0m\u001b[1m)\u001b[0m"
      ]
     },
     "execution_count": 17,
     "metadata": {},
     "output_type": "execute_result"
    }
   ],
   "source": [
    "import numpy as np \n",
    "np.random.randn(3,2).transpose()"
   ]
  },
  {
   "cell_type": "code",
   "execution_count": 5,
   "metadata": {},
   "outputs": [
    {
     "name": "stderr",
     "output_type": "stream",
     "text": [
      "INFO:__main__:This is an info message\n"
     ]
    }
   ],
   "source": [
    "import logging\n",
    "\n",
    "logger = logging.getLogger(__name__)\n",
    "\n",
    "def some_function():\n",
    "    logger.info(\"This is an info message\")\n",
    "\n",
    "if __name__ == \"__main__\":\n",
    "    some_function()"
   ]
  },
  {
   "cell_type": "code",
   "execution_count": 2,
   "metadata": {},
   "outputs": [
    {
     "name": "stdout",
     "output_type": "stream",
     "text": [
      "__main__\n"
     ]
    }
   ],
   "source": [
    "print(__name__)"
   ]
  },
  {
   "cell_type": "code",
   "execution_count": null,
   "metadata": {},
   "outputs": [],
   "source": []
  }
 ],
 "metadata": {
  "kernelspec": {
   "display_name": "base",
   "language": "python",
   "name": "python3"
  },
  "language_info": {
   "codemirror_mode": {
    "name": "ipython",
    "version": 3
   },
   "file_extension": ".py",
   "mimetype": "text/x-python",
   "name": "python",
   "nbconvert_exporter": "python",
   "pygments_lexer": "ipython3",
   "version": "3.10.8"
  }
 },
 "nbformat": 4,
 "nbformat_minor": 2
}
