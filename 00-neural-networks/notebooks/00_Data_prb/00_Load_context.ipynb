{
 "cells": [
  {
   "cell_type": "code",
   "execution_count": 15,
   "metadata": {},
   "outputs": [],
   "source": [
    "from kedro.framework.session import KedroSession\n",
    "from kedro.framework.startup import bootstrap_project\n",
    "from pathlib import Path\n",
    "from kedro.extras.datasets.pickle import PickleDataSet\n",
    "import os "
   ]
  },
  {
   "cell_type": "markdown",
   "metadata": {},
   "source": [
    "- We have to set the current working directory to our kedro projet path\n",
    "- Other wise we need to use the following code\n",
    "\n",
    " If you are creating a session outside of a Kedro project (i.e. not using `kedro run` or `kedro jupyter`), you need to run `bootstrap_project` to let Kedro find your configuration.\n",
    "\n",
    "bootstrap_project(Path(\"<project_root>\"))\n",
    "\n",
    "with KedroSession.create() as session:\n",
    "\n",
    "    session.run()\n"
   ]
  },
  {
   "cell_type": "code",
   "execution_count": 16,
   "metadata": {},
   "outputs": [
    {
     "data": {
      "text/plain": [
       "'c:\\\\Users\\\\jfjim_xm8lkod\\\\12_NN\\\\NN_Scratch\\\\00-neural-networks'"
      ]
     },
     "execution_count": 16,
     "metadata": {},
     "output_type": "execute_result"
    }
   ],
   "source": [
    "os.getcwd()"
   ]
  },
  {
   "cell_type": "code",
   "execution_count": 18,
   "metadata": {},
   "outputs": [
    {
     "name": "stdout",
     "output_type": "stream",
     "text": [
      "Hola don Feliponcho\n"
     ]
    }
   ],
   "source": [
    "from src.utilities.Cost_Functions import greetings\n",
    "greetings()"
   ]
  },
  {
   "cell_type": "code",
   "execution_count": 4,
   "metadata": {},
   "outputs": [
    {
     "name": "stdout",
     "output_type": "stream",
     "text": [
      "c:/Users/jfjim_xm8lkod/12_NN/NN_Scratch\\00-neural-networks\n"
     ]
    }
   ],
   "source": [
    "root_path = os.path.join(\"c:/Users/jfjim_xm8lkod/12_NN/NN_Scratch\",'00-neural-networks')\n",
    "print(root_path)"
   ]
  },
  {
   "cell_type": "code",
   "execution_count": 5,
   "metadata": {},
   "outputs": [
    {
     "data": {
      "text/plain": [
       "'c:\\\\Users\\\\jfjim_xm8lkod\\\\12_NN\\\\NN_Scratch\\\\00-neural-networks'"
      ]
     },
     "execution_count": 5,
     "metadata": {},
     "output_type": "execute_result"
    }
   ],
   "source": [
    "os.chdir(root_path)\n",
    "os.getcwd()"
   ]
  },
  {
   "cell_type": "code",
   "execution_count": 6,
   "metadata": {},
   "outputs": [
    {
     "data": {
      "text/plain": [
       "WindowsPath('00-neural-networks')"
      ]
     },
     "execution_count": 6,
     "metadata": {},
     "output_type": "execute_result"
    }
   ],
   "source": [
    "Path('00-neural-networks')"
   ]
  },
  {
   "cell_type": "code",
   "execution_count": 7,
   "metadata": {},
   "outputs": [],
   "source": [
    "bootstrap_project(root_path)\n",
    "with KedroSession.create() as session:\n",
    "    #session.run()\n",
    "    catalog = session.load_context().catalog"
   ]
  },
  {
   "cell_type": "code",
   "execution_count": 8,
   "metadata": {},
   "outputs": [
    {
     "data": {
      "text/html": [
       "<pre style=\"white-space:pre;overflow-x:auto;line-height:normal;font-family:Menlo,'DejaVu Sans Mono',consolas,'Courier New',monospace\"><span style=\"color: #7fbfbf; text-decoration-color: #7fbfbf\">[10/21/23 14:09:50] </span><span style=\"color: #000080; text-decoration-color: #000080\">INFO    </span> Loading data from <span style=\"color: #008000; text-decoration-color: #008000\">'mnist'</span> <span style=\"font-weight: bold\">(</span>PickleDataSet<span style=\"font-weight: bold\">)</span><span style=\"color: #808000; text-decoration-color: #808000\">...</span>                       <a href=\"file://c:\\Users\\jfjim_xm8lkod\\anaconda3\\envs\\kedro-environment\\lib\\site-packages\\kedro\\io\\data_catalog.py\" target=\"_blank\"><span style=\"color: #7f7f7f; text-decoration-color: #7f7f7f\">data_catalog.py</span></a><span style=\"color: #7f7f7f; text-decoration-color: #7f7f7f\">:</span><a href=\"file://c:\\Users\\jfjim_xm8lkod\\anaconda3\\envs\\kedro-environment\\lib\\site-packages\\kedro\\io\\data_catalog.py#343\" target=\"_blank\"><span style=\"color: #7f7f7f; text-decoration-color: #7f7f7f\">343</span></a>\n",
       "</pre>\n"
      ],
      "text/plain": [
       "\u001b[2;36m[10/21/23 14:09:50]\u001b[0m\u001b[2;36m \u001b[0m\u001b[34mINFO    \u001b[0m Loading data from \u001b[32m'mnist'\u001b[0m \u001b[1m(\u001b[0mPickleDataSet\u001b[1m)\u001b[0m\u001b[33m...\u001b[0m                       \u001b]8;id=895965;file://c:\\Users\\jfjim_xm8lkod\\anaconda3\\envs\\kedro-environment\\lib\\site-packages\\kedro\\io\\data_catalog.py\u001b\\\u001b[2mdata_catalog.py\u001b[0m\u001b]8;;\u001b\\\u001b[2m:\u001b[0m\u001b]8;id=546377;file://c:\\Users\\jfjim_xm8lkod\\anaconda3\\envs\\kedro-environment\\lib\\site-packages\\kedro\\io\\data_catalog.py#343\u001b\\\u001b[2m343\u001b[0m\u001b]8;;\u001b\\\n"
      ]
     },
     "metadata": {},
     "output_type": "display_data"
    }
   ],
   "source": [
    "data = catalog.load(\"mnist\")"
   ]
  },
  {
   "cell_type": "code",
   "execution_count": 9,
   "metadata": {},
   "outputs": [
    {
     "data": {
      "text/plain": [
       "tuple"
      ]
     },
     "execution_count": 9,
     "metadata": {},
     "output_type": "execute_result"
    }
   ],
   "source": [
    "type(data)"
   ]
  },
  {
   "cell_type": "code",
   "execution_count": 10,
   "metadata": {},
   "outputs": [],
   "source": [
    "\n",
    "import numpy as np\n",
    "import importlib\n",
    "\n",
    "\n",
    "def vectorized_result(j):\n",
    "    \"\"\" Return a 10-dimensional unit vector with a 1.0 in the jth position\n",
    "        and zeros elsewhere. This is used to convert a digit (0,...,9) into \n",
    "        a corresponding desired output from the neural network\n",
    "    \"\"\"\n",
    "    e = np.zeros((10,1))\n",
    "    e[j] = 1.0\n",
    "    return e\n",
    "\n",
    "def split_data(mnist: tuple) ->  list:\n",
    "    tr_d, va_d, te_d = mnist\n",
    "    training_inputs = [np.reshape(x, (784,1)) for x in tr_d[0]] # Transform the shape from (784,) to (784,1)\n",
    "    training_results = [vectorized_result(x) for x in tr_d[1]] # Transform the output into vector with 1.0 in the output result\n",
    "    training_data = list(zip(training_inputs,training_results))\n",
    "    validation_inputs = [np.reshape(x, (784,1)) for x in va_d[0]] # Transform the shape from (784,) to (784,1)\n",
    "    validation_results = [vectorized_result(x) for x in va_d[1]] # Transform the output into vector with 1.0 in the output result\n",
    "    validation_data = list(zip(validation_inputs,validation_results))\n",
    "    test_inputs = [np.reshape(x,(784,1)) for x in te_d[0]]\n",
    "    test_data = list(zip(test_inputs, te_d[1]))\n",
    "\n",
    "    return (tuple([training_data,validation_data,test_data]))"
   ]
  },
  {
   "cell_type": "code",
   "execution_count": 11,
   "metadata": {},
   "outputs": [],
   "source": [
    "d,f,g = split_data(data)"
   ]
  },
  {
   "cell_type": "code",
   "execution_count": 14,
   "metadata": {},
   "outputs": [
    {
     "data": {
      "text/plain": [
       "list"
      ]
     },
     "execution_count": 14,
     "metadata": {},
     "output_type": "execute_result"
    }
   ],
   "source": [
    "type(g)"
   ]
  },
  {
   "cell_type": "code",
   "execution_count": null,
   "metadata": {},
   "outputs": [],
   "source": []
  }
 ],
 "metadata": {
  "kernelspec": {
   "display_name": "kedro-environment",
   "language": "python",
   "name": "python3"
  },
  "language_info": {
   "codemirror_mode": {
    "name": "ipython",
    "version": 3
   },
   "file_extension": ".py",
   "mimetype": "text/x-python",
   "name": "python",
   "nbconvert_exporter": "python",
   "pygments_lexer": "ipython3",
   "version": "3.10.8"
  }
 },
 "nbformat": 4,
 "nbformat_minor": 2
}
